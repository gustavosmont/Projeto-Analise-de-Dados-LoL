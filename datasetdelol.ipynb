{
 "cells": [
  {
   "cell_type": "code",
   "execution_count": 1,
   "metadata": {},
   "outputs": [],
   "source": [
    "import numpy as np\n",
    "import pandas as pd\n",
    "import matplotlib.pyplot as plt"
   ]
  },
  {
   "cell_type": "code",
   "execution_count": 2,
   "metadata": {},
   "outputs": [],
   "source": [
    "%matplotlib inline"
   ]
  },
  {
   "cell_type": "code",
   "execution_count": 3,
   "metadata": {},
   "outputs": [],
   "source": [
    "file = \"datasetLoL\\\\matchinfo.csv\"\n",
    "dataset = pd.read_csv(file)"
   ]
  },
  {
   "cell_type": "code",
   "execution_count": 7,
   "metadata": {},
   "outputs": [
    {
     "data": {
      "text/plain": [
       "([<matplotlib.patches.Wedge at 0x1ad08f1fa30>,\n",
       "  <matplotlib.patches.Wedge at 0x1ad08f2e190>],\n",
       " [Text(-0.13786663048841225, 1.0913261621521642, 'Lado Azul'),\n",
       "  Text(0.13786673266574093, -1.091326149244154, 'Lado Vermelho')],\n",
       " [Text(-0.07519998026640666, 0.5952688157193622, '54.0%'),\n",
       "  Text(0.07520003599949504, -0.5952688086786293, '46.0%')])"
      ]
     },
     "execution_count": 7,
     "metadata": {},
     "output_type": "execute_result"
    },
    {
     "data": {
      "image/png": "[encoded data removed]",
      "text/plain": [
       "<Figure size 432x288 with 1 Axes>"
      ]
     },
     "metadata": {},
     "output_type": "display_data"
    }
   ],
   "source": [
    "pazul = '{:2.2}'.format(dataset.bResult.mean())\n",
    "pvermelho = '{:2.2}'.format(dataset.rResult.mean())\n",
    "plt.pie([pazul,pvermelho],labels=['Lado Azul', 'Lado Vermelho'],autopct='%1.1f%%')"
   ]
  },
  {
   "cell_type": "code",
   "execution_count": 4,
   "metadata": {
    "scrolled": false
   },
   "outputs": [
    {
     "data": {
      "text/plain": [
       "4301        Syndra\n",
       "4302          Ahri\n",
       "4303    Cassiopeia\n",
       "4304       Leblanc\n",
       "4305          Ahri\n",
       "Name: blueMiddleChamp, dtype: object"
      ]
     },
     "execution_count": 4,
     "metadata": {},
     "output_type": "execute_result"
    }
   ],
   "source": [
    "CBLol2017 = dataset[(dataset.League == 'CBLoL') & (dataset.Year == 2017) & (dataset.Season == 'Summer')]\n",
    "CBLol2017['blueMiddleChamp'].head()"
   ]
  },
  {
   "cell_type": "code",
   "execution_count": 25,
   "metadata": {},
   "outputs": [
    {
     "data": {
      "text/html": [
       "<div>\n",
       "<style scoped>\n",
       "    .dataframe tbody tr th:only-of-type {\n",
       "        vertical-align: middle;\n",
       "    }\n",
       "\n",
       "    .dataframe tbody tr th {\n",
       "        vertical-align: top;\n",
       "    }\n",
       "\n",
       "    .dataframe thead th {\n",
       "        text-align: right;\n",
       "    }\n",
       "</style>\n",
       "<table border=\"1\" class=\"dataframe\">\n",
       "  <thead>\n",
       "    <tr style=\"text-align: right;\">\n",
       "      <th></th>\n",
       "      <th>League</th>\n",
       "      <th>Year</th>\n",
       "      <th>Season</th>\n",
       "      <th>Type</th>\n",
       "      <th>blueTeamTag</th>\n",
       "      <th>bResult</th>\n",
       "      <th>rResult</th>\n",
       "      <th>redTeamTag</th>\n",
       "      <th>gamelength</th>\n",
       "      <th>blueTop</th>\n",
       "      <th>...</th>\n",
       "      <th>redTopChamp</th>\n",
       "      <th>redJungle</th>\n",
       "      <th>redJungleChamp</th>\n",
       "      <th>redMiddle</th>\n",
       "      <th>redMiddleChamp</th>\n",
       "      <th>redADC</th>\n",
       "      <th>redADCChamp</th>\n",
       "      <th>redSupport</th>\n",
       "      <th>redSupportChamp</th>\n",
       "      <th>Address</th>\n",
       "    </tr>\n",
       "  </thead>\n",
       "  <tbody>\n",
       "    <tr>\n",
       "      <th>4302</th>\n",
       "      <td>CBLoL</td>\n",
       "      <td>2017</td>\n",
       "      <td>Summer</td>\n",
       "      <td>Season</td>\n",
       "      <td>PNG</td>\n",
       "      <td>0</td>\n",
       "      <td>1</td>\n",
       "      <td>RED</td>\n",
       "      <td>34</td>\n",
       "      <td>Mylon</td>\n",
       "      <td>...</td>\n",
       "      <td>Galio</td>\n",
       "      <td>Nappon</td>\n",
       "      <td>LeeSin</td>\n",
       "      <td>tockers</td>\n",
       "      <td>Orianna</td>\n",
       "      <td>Sacy</td>\n",
       "      <td>Xayah</td>\n",
       "      <td>Dioud</td>\n",
       "      <td>Rakan</td>\n",
       "      <td>http://matchhistory.br.leagueoflegends.com/pt/...</td>\n",
       "    </tr>\n",
       "    <tr>\n",
       "      <th>4314</th>\n",
       "      <td>CBLoL</td>\n",
       "      <td>2017</td>\n",
       "      <td>Summer</td>\n",
       "      <td>Season</td>\n",
       "      <td>PNG</td>\n",
       "      <td>1</td>\n",
       "      <td>0</td>\n",
       "      <td>TSW</td>\n",
       "      <td>30</td>\n",
       "      <td>Mylon</td>\n",
       "      <td>...</td>\n",
       "      <td>Renekton</td>\n",
       "      <td>Ferchu</td>\n",
       "      <td>Gragas</td>\n",
       "      <td>Krastyel</td>\n",
       "      <td>Jayce</td>\n",
       "      <td>Theusma</td>\n",
       "      <td>Varus</td>\n",
       "      <td>Ceos</td>\n",
       "      <td>Thresh</td>\n",
       "      <td>http://matchhistory.br.leagueoflegends.com/pt/...</td>\n",
       "    </tr>\n",
       "    <tr>\n",
       "      <th>4323</th>\n",
       "      <td>CBLoL</td>\n",
       "      <td>2017</td>\n",
       "      <td>Summer</td>\n",
       "      <td>Season</td>\n",
       "      <td>PNG</td>\n",
       "      <td>1</td>\n",
       "      <td>0</td>\n",
       "      <td>CNB</td>\n",
       "      <td>40</td>\n",
       "      <td>Mylon</td>\n",
       "      <td>...</td>\n",
       "      <td>Shen</td>\n",
       "      <td>Minerva</td>\n",
       "      <td>Rakan</td>\n",
       "      <td>Vash</td>\n",
       "      <td>Ekko</td>\n",
       "      <td>pbO</td>\n",
       "      <td>Xayah</td>\n",
       "      <td>Wos</td>\n",
       "      <td>Gragas</td>\n",
       "      <td>http://matchhistory.br.leagueoflegends.com/pt/...</td>\n",
       "    </tr>\n",
       "    <tr>\n",
       "      <th>4332</th>\n",
       "      <td>CBLoL</td>\n",
       "      <td>2017</td>\n",
       "      <td>Summer</td>\n",
       "      <td>Season</td>\n",
       "      <td>PNG</td>\n",
       "      <td>1</td>\n",
       "      <td>0</td>\n",
       "      <td>ITZ</td>\n",
       "      <td>46</td>\n",
       "      <td>Mylon</td>\n",
       "      <td>...</td>\n",
       "      <td>Riven</td>\n",
       "      <td>Turtle</td>\n",
       "      <td>Olaf</td>\n",
       "      <td>Envy</td>\n",
       "      <td>Lucian</td>\n",
       "      <td>micaO</td>\n",
       "      <td>Caitlyn</td>\n",
       "      <td>Jockster</td>\n",
       "      <td>Thresh</td>\n",
       "      <td>http://matchhistory.br.leagueoflegends.com/pt/...</td>\n",
       "    </tr>\n",
       "    <tr>\n",
       "      <th>4339</th>\n",
       "      <td>CBLoL</td>\n",
       "      <td>2017</td>\n",
       "      <td>Summer</td>\n",
       "      <td>Season</td>\n",
       "      <td>PNG</td>\n",
       "      <td>1</td>\n",
       "      <td>0</td>\n",
       "      <td>PRG</td>\n",
       "      <td>31</td>\n",
       "      <td>Mylon</td>\n",
       "      <td>...</td>\n",
       "      <td>Kled</td>\n",
       "      <td>Zuao</td>\n",
       "      <td>Zac</td>\n",
       "      <td>Goku</td>\n",
       "      <td>Syndra</td>\n",
       "      <td>LUSKKA</td>\n",
       "      <td>Kalista</td>\n",
       "      <td>Professor</td>\n",
       "      <td>Braum</td>\n",
       "      <td>http://matchhistory.br.leagueoflegends.com/pt/...</td>\n",
       "    </tr>\n",
       "    <tr>\n",
       "      <th>4341</th>\n",
       "      <td>CBLoL</td>\n",
       "      <td>2017</td>\n",
       "      <td>Summer</td>\n",
       "      <td>Season</td>\n",
       "      <td>PNG</td>\n",
       "      <td>1</td>\n",
       "      <td>0</td>\n",
       "      <td>KST</td>\n",
       "      <td>50</td>\n",
       "      <td>Mylon</td>\n",
       "      <td>...</td>\n",
       "      <td>Camille</td>\n",
       "      <td>Revolta</td>\n",
       "      <td>Sejuani</td>\n",
       "      <td>takeshi</td>\n",
       "      <td>Corki</td>\n",
       "      <td>Juzinho</td>\n",
       "      <td>Xayah</td>\n",
       "      <td>esA</td>\n",
       "      <td>Thresh</td>\n",
       "      <td>http://matchhistory.br.leagueoflegends.com/pt/...</td>\n",
       "    </tr>\n",
       "    <tr>\n",
       "      <th>4354</th>\n",
       "      <td>CBLoL</td>\n",
       "      <td>2017</td>\n",
       "      <td>Summer</td>\n",
       "      <td>Season</td>\n",
       "      <td>PNG</td>\n",
       "      <td>1</td>\n",
       "      <td>0</td>\n",
       "      <td>ONE</td>\n",
       "      <td>33</td>\n",
       "      <td>Mylon</td>\n",
       "      <td>...</td>\n",
       "      <td>Rumble</td>\n",
       "      <td>4LaN</td>\n",
       "      <td>Nunu</td>\n",
       "      <td>Brucer</td>\n",
       "      <td>Lucian</td>\n",
       "      <td>Absolut</td>\n",
       "      <td>Xayah</td>\n",
       "      <td>RedBert</td>\n",
       "      <td>Alistar</td>\n",
       "      <td>http://matchhistory.br.leagueoflegends.com/pt/...</td>\n",
       "    </tr>\n",
       "    <tr>\n",
       "      <th>4360</th>\n",
       "      <td>CBLoL</td>\n",
       "      <td>2017</td>\n",
       "      <td>Summer</td>\n",
       "      <td>Playoffs</td>\n",
       "      <td>PNG</td>\n",
       "      <td>1</td>\n",
       "      <td>0</td>\n",
       "      <td>ITZ</td>\n",
       "      <td>42</td>\n",
       "      <td>Mylon</td>\n",
       "      <td>...</td>\n",
       "      <td>Camille</td>\n",
       "      <td>Turtle</td>\n",
       "      <td>Gragas</td>\n",
       "      <td>Envy</td>\n",
       "      <td>Taliyah</td>\n",
       "      <td>micaO</td>\n",
       "      <td>Kalista</td>\n",
       "      <td>Jockster</td>\n",
       "      <td>Morgana</td>\n",
       "      <td>http://matchhistory.br.leagueoflegends.com/pt/...</td>\n",
       "    </tr>\n",
       "  </tbody>\n",
       "</table>\n",
       "<p>8 rows × 30 columns</p>\n",
       "</div>"
      ],
      "text/plain": [
       "     League  Year  Season      Type blueTeamTag  bResult  rResult redTeamTag  \\\n",
       "4302  CBLoL  2017  Summer    Season         PNG        0        1        RED   \n",
       "4314  CBLoL  2017  Summer    Season         PNG        1        0        TSW   \n",
       "4323  CBLoL  2017  Summer    Season         PNG        1        0        CNB   \n",
       "4332  CBLoL  2017  Summer    Season         PNG        1        0        ITZ   \n",
       "4339  CBLoL  2017  Summer    Season         PNG        1        0        PRG   \n",
       "4341  CBLoL  2017  Summer    Season         PNG        1        0        KST   \n",
       "4354  CBLoL  2017  Summer    Season         PNG        1        0        ONE   \n",
       "4360  CBLoL  2017  Summer  Playoffs         PNG        1        0        ITZ   \n",
       "\n",
       "      gamelength blueTop  ... redTopChamp redJungle redJungleChamp redMiddle  \\\n",
       "4302          34   Mylon  ...       Galio    Nappon         LeeSin   tockers   \n",
       "4314          30   Mylon  ...    Renekton    Ferchu         Gragas  Krastyel   \n",
       "4323          40   Mylon  ...        Shen   Minerva          Rakan      Vash   \n",
       "4332          46   Mylon  ...       Riven    Turtle           Olaf      Envy   \n",
       "4339          31   Mylon  ...        Kled      Zuao            Zac      Goku   \n",
       "4341          50   Mylon  ...     Camille   Revolta        Sejuani   takeshi   \n",
       "4354          33   Mylon  ...      Rumble      4LaN           Nunu    Brucer   \n",
       "4360          42   Mylon  ...     Camille    Turtle         Gragas      Envy   \n",
       "\n",
       "     redMiddleChamp   redADC redADCChamp redSupport redSupportChamp  \\\n",
       "4302        Orianna     Sacy       Xayah      Dioud           Rakan   \n",
       "4314          Jayce  Theusma       Varus       Ceos          Thresh   \n",
       "4323           Ekko      pbO       Xayah        Wos          Gragas   \n",
       "4332         Lucian    micaO     Caitlyn   Jockster          Thresh   \n",
       "4339         Syndra   LUSKKA     Kalista  Professor           Braum   \n",
       "4341          Corki  Juzinho       Xayah        esA          Thresh   \n",
       "4354         Lucian  Absolut       Xayah    RedBert         Alistar   \n",
       "4360        Taliyah    micaO     Kalista   Jockster         Morgana   \n",
       "\n",
       "                                                Address  \n",
       "4302  http://matchhistory.br.leagueoflegends.com/pt/...  \n",
       "4314  http://matchhistory.br.leagueoflegends.com/pt/...  \n",
       "4323  http://matchhistory.br.leagueoflegends.com/pt/...  \n",
       "4332  http://matchhistory.br.leagueoflegends.com/pt/...  \n",
       "4339  http://matchhistory.br.leagueoflegends.com/pt/...  \n",
       "4341  http://matchhistory.br.leagueoflegends.com/pt/...  \n",
       "4354  http://matchhistory.br.leagueoflegends.com/pt/...  \n",
       "4360  http://matchhistory.br.leagueoflegends.com/pt/...  \n",
       "\n",
       "[8 rows x 30 columns]"
      ]
     },
     "execution_count": 25,
     "metadata": {},
     "output_type": "execute_result"
    }
   ],
   "source": [
    "painblue = CBLol2017[(CBLol2017.blueTeamTag == 'PNG')]"
   ]
  },
  {
   "cell_type": "code",
   "execution_count": 27,
   "metadata": {
    "pycharm": {
     "name": "#%%\n"
    }
   },
   "outputs": [],
   "source": [
    "painred = CBLol2017[(CBLol2017.redTeamTag == 'PNG')]"
   ]
  },
  {
   "cell_type": "markdown",
   "metadata": {
    "pycharm": {
     "name": "#%% md\n"
    }
   },
   "source": [
    "Descobrindo o Campeão da posição Top mais utilizado pela Pain Gaming"
   ]
  },
  {
   "cell_type": "code",
   "execution_count": 28,
   "metadata": {
    "pycharm": {
     "name": "#%%\n"
    }
   },
   "outputs": [
    {
     "name": "stdout",
     "output_type": "stream",
     "text": [
      "Chogath\n"
     ]
    }
   ],
   "source": [
    "if (painred.redTopChamp.describe().freq > painblue.blueTopChamp.describe().freq):\n",
    "    print(painred.redTopChamp.describe().top)\n",
    "elif (painred.redTopChamp.describe().freq < painblue.blueTopChamp.describe().freq):\n",
    "    print(painblue.blueTopChamp.describe().top)\n",
    "else:\n",
    "    if(painblue.blueTopChamp.describe().top == painred.redTopChamp.describe().top):\n",
    "        print(painblue.blueTopChamp.describe().top)\n",
    "    else:\n",
    "        print(painblue.blueTopChamp.describe().top,\"/\",painred.redTopChamp.describe().top)"
   ]
  },
  {
   "cell_type": "markdown",
   "metadata": {
    "pycharm": {
     "name": "#%% md\n"
    }
   },
   "source": [
    "Descobrindo o Campeão da posiçâo Jungle mais utilizado pela Pain Gaming"
   ]
  },
  {
   "cell_type": "code",
   "execution_count": 29,
   "metadata": {
    "pycharm": {
     "name": "#%%\n"
    }
   },
   "outputs": [
    {
     "name": "stdout",
     "output_type": "stream",
     "text": [
      "Khazix\n"
     ]
    }
   ],
   "source": [
    "if (painred.redJungleChamp.describe().freq > painblue.blueJungleChamp.describe().freq):\n",
    "    print(painred.redJungleChamp.describe().top)\n",
    "elif (painred.redJungleChamp.describe().freq < painblue.blueJungleChamp.describe().freq):\n",
    "    print(painblue.blueJungleChamp.describe().top)\n",
    "else:\n",
    "    if(painblue.blueJungleChamp.describe().top == painred.redJungleChamp.describe().top):\n",
    "        print(painblue.blueJungleChamp.describe().top)\n",
    "    else:\n",
    "        print(painblue.blueJungleChamp.describe().top,\"/\",painred.redJungleChamp.describe().top)"
   ]
  },
  {
   "cell_type": "markdown",
   "metadata": {
    "pycharm": {
     "name": "#%% md\n"
    }
   },
   "source": [
    "Descobrindo o Campeão da posiçâo Mid mais utilizado pela Pain Gaming"
   ]
  },
  {
   "cell_type": "code",
   "execution_count": null,
   "metadata": {
    "pycharm": {
     "name": "#%%\n"
    }
   },
   "outputs": [],
   "source": [
    "if (painred.redMiddleChamp.describe().freq > painblue.blueMiddleChamp.describe().freq):\n",
    "    print(painred.redMiddleChamp.describe().top)\n",
    "elif (painred.redMiddleChamp.describe().freq < painblue.blueMiddleChamp.describe().freq):\n",
    "    print(painblue.blueMiddleChamp.describe().top)\n",
    "else:\n",
    "    if(painblue.blueMiddleChamp.describe().top == painred.redMiddleChamp.describe().top):\n",
    "        print(painblue.blueMiddleChamp.describe().top)\n",
    "    else:\n",
    "        print(painblue.blueMiddleChamp.describe().top,\"/\",painred.redMiddleChamp.describe().top)"
   ]
  },
  {
   "cell_type": "markdown",
   "metadata": {},
   "source": [
    "Descobrindo o Campeão da posiçâo ADC mais utilizado pela Pain Gaming"
   ]
  },
  {
   "cell_type": "code",
   "execution_count": null,
   "metadata": {
    "pycharm": {
     "name": "#%%\n"
    }
   },
   "outputs": [],
   "source": [
    "if (painred.redADCChamp.describe().freq > painblue.blueADCChamp.describe().freq):\n",
    "    print(painred.redADCChamp.describe().top)\n",
    "elif (painred.redADCChamp.describe().freq < painblue.blueADCChamp.describe().freq):\n",
    "    print(painblue.blueADCChamp.describe().top)\n",
    "else:\n",
    "    if(painblue.blueADCChamp.describe().top == painred.redADCChamp.describe().top):\n",
    "        print(painblue.blueADCChamp.describe().top)\n",
    "    else:\n",
    "        print(painblue.blueADCChamp.describe().top,\"/\",painred.redADCChamp.describe().top)"
   ]
  },
  {
   "cell_type": "markdown",
   "metadata": {},
   "source": [
    "Descobrindo o Campeão da posiçâo Suporte mais utilizado pela Pain Gaming"
   ]
  },
  {
   "cell_type": "code",
   "execution_count": null,
   "metadata": {
    "pycharm": {
     "name": "#%%\n"
    }
   },
   "outputs": [],
   "source": [
    "if (painred.redSupportChamp.describe().freq > painblue.blueSupportChamp.describe().freq):\n",
    "    print(painred.redSupportChamp.describe().top)\n",
    "elif (painred.redSupportChamp.describe().freq < painblue.blueSupportChamp.describe().freq):\n",
    "    print(painblue.blueSupportChamp.describe().top)\n",
    "else:\n",
    "    if(painblue.blueSupportChamp.describe().top == painred.redSupportChamp.describe().top):\n",
    "        print(painblue.blueSupportChamp.describe().top)\n",
    "    else:\n",
    "        print(painblue.blueSupportChamp.describe().top,\"/\",painred.redSupportChamp.describe().top)"
   ]
  },
  {
   "cell_type": "code",
   "execution_count": null,
   "metadata": {
    "pycharm": {
     "name": "#%%\n"
    }
   },
   "outputs": [],
   "source": []
  },
  {
   "cell_type": "code",
   "execution_count": null,
   "metadata": {
    "pycharm": {
     "name": "#%%\n"
    }
   },
   "outputs": [],
   "source": [
    "Descobrindo o Campeão da posiçâo ADC mais utilizado pela Pain Gaming"
   ]
  },
  {
   "cell_type": "markdown",
   "metadata": {},
   "source": [
    "Descobrindo o Campeão da posiçâo ADC mais utilizado pela Pain Gaming"
   ]
  },
  {
   "cell_type": "code",
   "execution_count": null,
   "metadata": {
    "pycharm": {
     "name": "#%%\n"
    }
   },
   "outputs": [],
   "source": [
    "if (painred.redADCChamp.describe().freq > painblue.blueADCChamp.describe().freq):\n",
    "    print(painred.redADCChamp.describe().top)\n",
    "elif (painred.redADCChamp.describe().freq < painblue.blueADCChamp.describe().freq):\n",
    "    print(painblue.blueADCChamp.describe().top)\n",
    "else:\n",
    "    if(painblue.blueADCChamp.describe().top == painred.redADCChamp.describe().top):\n",
    "        print(painblue.blueADCChamp.describe().top)\n",
    "    else:\n",
    "        print(painblue.blueADCChamp.describe().top,\"/\",painred.redADCChamp.describe().top)"
   ]
  },
  {
   "cell_type": "markdown",
   "metadata": {},
   "source": [
    "Descobrindo o Campeão da posiçâo Suporte mais utilizado pela Pain Gaming"
   ]
  },
  {
   "cell_type": "code",
   "execution_count": null,
   "metadata": {
    "pycharm": {
     "name": "#%%\n"
    }
   },
   "outputs": [],
   "source": [
    "if (painred.redSupportChamp.describe().freq > painblue.blueSupportChamp.describe().freq):\n",
    "    print(painred.redSupportChamp.describe().top)\n",
    "elif (painred.redSupportChamp.describe().freq < painblue.blueSupportChamp.describe().freq):\n",
    "    print(painblue.blueSupportChamp.describe().top)\n",
    "else:\n",
    "    if(painblue.blueSupportChamp.describe().top == painred.redSupportChamp.describe().top):\n",
    "        print(painblue.blueSupportChamp.describe().top)\n",
    "    else:\n",
    "        print(painblue.blueSupportChamp.describe().top,\"/\",painred.redSupportChamp.describe().top)"
   ]
  },
  {
   "cell_type": "code",
   "execution_count": 30,
   "metadata": {
    "pycharm": {
     "name": "#%%\n"
    }
   },
   "outputs": [
    {
     "name": "stdout",
     "output_type": "stream",
     "text": [
      "Syndra\n"
     ]
    }
   ],
   "source": []
  },
  {
   "cell_type": "markdown",
   "metadata": {},
   "source": [
    "Descobrindo o Campeão da posiçâo ADC mais utilizado pela Pain Gaming"
   ]
  },
  {
   "cell_type": "code",
   "execution_count": 31,
   "metadata": {
    "pycharm": {
     "name": "#%%\n"
    }
   },
   "outputs": [
    {
     "name": "stdout",
     "output_type": "stream",
     "text": [
      "Xayah\n"
     ]
    }
   ],
   "source": [
    "if (painred.redADCChamp.describe().freq > painblue.blueADCChamp.describe().freq):\n",
    "    print(painred.redADCChamp.describe().top)\n",
    "elif (painred.redADCChamp.describe().freq < painblue.blueADCChamp.describe().freq):\n",
    "    print(painblue.blueADCChamp.describe().top)\n",
    "else:\n",
    "    if(painblue.blueADCChamp.describe().top == painred.redADCChamp.describe().top):\n",
    "        print(painblue.blueADCChamp.describe().top)\n",
    "    else:\n",
    "        print(painblue.blueADCChamp.describe().top,\"/\",painred.redADCChamp.describe().top)"
   ]
  },
  {
   "cell_type": "markdown",
   "metadata": {},
   "source": [
    "Descobrindo o Campeão da posiçâo Suporte mais utilizado pela Pain Gaming"
   ]
  },
  {
   "cell_type": "code",
   "execution_count": 32,
   "metadata": {
    "pycharm": {
     "name": "#%%\n"
    }
   },
   "outputs": [
    {
     "name": "stdout",
     "output_type": "stream",
     "text": [
      "Braum\n"
     ]
    }
   ],
   "source": [
    "if (painred.redSupportChamp.describe().freq > painblue.blueSupportChamp.describe().freq):\n",
    "    print(painred.redSupportChamp.describe().top)\n",
    "elif (painred.redSupportChamp.describe().freq < painblue.blueSupportChamp.describe().freq):\n",
    "    print(painblue.blueSupportChamp.describe().top)\n",
    "else:\n",
    "    if(painblue.blueSupportChamp.describe().top == painred.redSupportChamp.describe().top):\n",
    "        print(painblue.blueSupportChamp.describe().top)\n",
    "    else:\n",
    "        print(painblue.blueSupportChamp.describe().top,\"/\",painred.redSupportChamp.describe().top)"
   ]
  },
  {
   "cell_type": "code",
   "execution_count": null,
   "metadata": {},
   "outputs": [],
   "source": []
  }
 ],
 "metadata": {
  "kernelspec": {
   "display_name": "Python 3",
   "language": "python",
   "name": "python3"
  },
  "language_info": {
   "codemirror_mode": {
    "name": "ipython",
    "version": 3
   },
   "file_extension": ".py",
   "mimetype": "text/x-python",
   "name": "python",
   "nbconvert_exporter": "python",
   "pygments_lexer": "ipython3",
   "version": "3.8.5"
  }
 },
 "nbformat": 4,
 "nbformat_minor": 4
}