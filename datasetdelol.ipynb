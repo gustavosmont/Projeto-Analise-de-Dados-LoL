{
 "cells": [
  {
   "cell_type": "code",
   "execution_count": 1,
   "metadata": {},
   "outputs": [],
   "source": [
    "import numpy as np\n",
    "import pandas as pd\n",
    "import matplotlib.pyplot as plt\n",
    "import seaborn as sns"
   ]
  },
  {
   "cell_type": "code",
   "execution_count": 2,
   "metadata": {},
   "outputs": [],
   "source": [
    "%matplotlib inline"
   ]
  },
  {
   "cell_type": "code",
   "execution_count": 3,
   "metadata": {},
   "outputs": [],
   "source": [
    "file = \"datasetLoL\\\\matchinfo.csv\"\n",
    "dataset = pd.read_csv(file)"
   ]
  },
  {
   "cell_type": "code",
   "execution_count": 4,
   "metadata": {
    "scrolled": false
   },
   "outputs": [
    {
     "data": {
      "text/html": [
       "<div>\n",
       "<style scoped>\n",
       "    .dataframe tbody tr th:only-of-type {\n",
       "        vertical-align: middle;\n",
       "    }\n",
       "\n",
       "    .dataframe tbody tr th {\n",
       "        vertical-align: top;\n",
       "    }\n",
       "\n",
       "    .dataframe thead th {\n",
       "        text-align: right;\n",
       "    }\n",
       "</style>\n",
       "<table border=\"1\" class=\"dataframe\">\n",
       "  <thead>\n",
       "    <tr style=\"text-align: right;\">\n",
       "      <th></th>\n",
       "      <th>Liga</th>\n",
       "      <th>Ano</th>\n",
       "      <th>Split</th>\n",
       "      <th>Time</th>\n",
       "      <th>Top</th>\n",
       "      <th>Jungle</th>\n",
       "      <th>Mid</th>\n",
       "      <th>ADC</th>\n",
       "      <th>Suporte</th>\n",
       "    </tr>\n",
       "  </thead>\n",
       "  <tbody>\n",
       "    <tr>\n",
       "      <th>0</th>\n",
       "      <td>NALCS</td>\n",
       "      <td>2015</td>\n",
       "      <td>Spring</td>\n",
       "      <td>C9</td>\n",
       "      <td>Gnar</td>\n",
       "      <td>Elise</td>\n",
       "      <td>Fizz</td>\n",
       "      <td>Sivir</td>\n",
       "      <td>Thresh</td>\n",
       "    </tr>\n",
       "    <tr>\n",
       "      <th>1</th>\n",
       "      <td>NALCS</td>\n",
       "      <td>2015</td>\n",
       "      <td>Spring</td>\n",
       "      <td>DIG</td>\n",
       "      <td>Irelia</td>\n",
       "      <td>JarvanIV</td>\n",
       "      <td>Azir</td>\n",
       "      <td>Corki</td>\n",
       "      <td>Annie</td>\n",
       "    </tr>\n",
       "    <tr>\n",
       "      <th>2</th>\n",
       "      <td>NALCS</td>\n",
       "      <td>2015</td>\n",
       "      <td>Spring</td>\n",
       "      <td>GV</td>\n",
       "      <td>Sion</td>\n",
       "      <td>LeeSin</td>\n",
       "      <td>Azir</td>\n",
       "      <td>Corki</td>\n",
       "      <td>Janna</td>\n",
       "    </tr>\n",
       "    <tr>\n",
       "      <th>3</th>\n",
       "      <td>NALCS</td>\n",
       "      <td>2015</td>\n",
       "      <td>Spring</td>\n",
       "      <td>TL</td>\n",
       "      <td>Gnar</td>\n",
       "      <td>Nunu</td>\n",
       "      <td>Lulu</td>\n",
       "      <td>KogMaw</td>\n",
       "      <td>Janna</td>\n",
       "    </tr>\n",
       "    <tr>\n",
       "      <th>4</th>\n",
       "      <td>NALCS</td>\n",
       "      <td>2015</td>\n",
       "      <td>Spring</td>\n",
       "      <td>T8</td>\n",
       "      <td>Sion</td>\n",
       "      <td>RekSai</td>\n",
       "      <td>Lulu</td>\n",
       "      <td>Corki</td>\n",
       "      <td>Annie</td>\n",
       "    </tr>\n",
       "    <tr>\n",
       "      <th>5</th>\n",
       "      <td>NALCS</td>\n",
       "      <td>2015</td>\n",
       "      <td>Spring</td>\n",
       "      <td>TIP</td>\n",
       "      <td>Gnar</td>\n",
       "      <td>JarvanIV</td>\n",
       "      <td>Lulu</td>\n",
       "      <td>Corki</td>\n",
       "      <td>Thresh</td>\n",
       "    </tr>\n",
       "    <tr>\n",
       "      <th>6</th>\n",
       "      <td>NALCS</td>\n",
       "      <td>2015</td>\n",
       "      <td>Spring</td>\n",
       "      <td>WFX</td>\n",
       "      <td>Renekton</td>\n",
       "      <td>LeeSin</td>\n",
       "      <td>Leblanc</td>\n",
       "      <td>Tristana</td>\n",
       "      <td>Nami</td>\n",
       "    </tr>\n",
       "    <tr>\n",
       "      <th>7</th>\n",
       "      <td>NALCS</td>\n",
       "      <td>2015</td>\n",
       "      <td>Spring</td>\n",
       "      <td>CLG</td>\n",
       "      <td>Rumble</td>\n",
       "      <td>Rengar</td>\n",
       "      <td>Leblanc</td>\n",
       "      <td>Sivir</td>\n",
       "      <td>Blitzcrank</td>\n",
       "    </tr>\n",
       "    <tr>\n",
       "      <th>8</th>\n",
       "      <td>NALCS</td>\n",
       "      <td>2015</td>\n",
       "      <td>Spring</td>\n",
       "      <td>GV</td>\n",
       "      <td>Kassadin</td>\n",
       "      <td>Vi</td>\n",
       "      <td>Zed</td>\n",
       "      <td>Corki</td>\n",
       "      <td>Morgana</td>\n",
       "    </tr>\n",
       "    <tr>\n",
       "      <th>9</th>\n",
       "      <td>NALCS</td>\n",
       "      <td>2015</td>\n",
       "      <td>Spring</td>\n",
       "      <td>TSM</td>\n",
       "      <td>Gnar</td>\n",
       "      <td>Rengar</td>\n",
       "      <td>Leblanc</td>\n",
       "      <td>Graves</td>\n",
       "      <td>Morgana</td>\n",
       "    </tr>\n",
       "  </tbody>\n",
       "</table>\n",
       "</div>"
      ],
      "text/plain": [
       "    Liga   Ano   Split Time       Top    Jungle      Mid       ADC     Suporte\n",
       "0  NALCS  2015  Spring   C9      Gnar     Elise     Fizz     Sivir      Thresh\n",
       "1  NALCS  2015  Spring  DIG    Irelia  JarvanIV     Azir     Corki       Annie\n",
       "2  NALCS  2015  Spring   GV      Sion    LeeSin     Azir     Corki       Janna\n",
       "3  NALCS  2015  Spring   TL      Gnar      Nunu     Lulu    KogMaw       Janna\n",
       "4  NALCS  2015  Spring   T8      Sion    RekSai     Lulu     Corki       Annie\n",
       "5  NALCS  2015  Spring  TIP      Gnar  JarvanIV     Lulu     Corki      Thresh\n",
       "6  NALCS  2015  Spring  WFX  Renekton    LeeSin  Leblanc  Tristana        Nami\n",
       "7  NALCS  2015  Spring  CLG    Rumble    Rengar  Leblanc     Sivir  Blitzcrank\n",
       "8  NALCS  2015  Spring   GV  Kassadin        Vi      Zed     Corki     Morgana\n",
       "9  NALCS  2015  Spring  TSM      Gnar    Rengar  Leblanc    Graves     Morgana"
      ]
     },
     "execution_count": 4,
     "metadata": {},
     "output_type": "execute_result"
    }
   ],
   "source": [
    "#Problema 1: Criar um dataset com todos os jogos de todas as ligas com suas correspondentes composições\n",
    "matchup=pd.DataFrame(columns=['Liga','Ano','Split','Time','Top','Jungle','Mid','ADC','Suporte'])\n",
    "matchup['Liga']=np.concatenate((dataset.League,dataset.League))\n",
    "matchup['Ano']=np.concatenate((dataset.Year,dataset.Year))\n",
    "matchup['Split']=np.concatenate((dataset.Season,dataset.Season))\n",
    "matchup['Time']=np.concatenate((dataset.redTeamTag,dataset.blueTeamTag))\n",
    "matchup['Top']=np.concatenate((dataset.redTopChamp,dataset.blueTopChamp))\n",
    "matchup['Jungle']=np.concatenate((dataset.redJungleChamp,dataset.blueJungleChamp))\n",
    "matchup['Mid']=np.concatenate((dataset.redMiddleChamp,dataset.blueMiddleChamp))\n",
    "matchup['ADC']=np.concatenate((dataset.redADCChamp,dataset.blueADCChamp))\n",
    "matchup['Suporte']=np.concatenate((dataset.redSupportChamp,dataset.blueSupportChamp))\n",
    "matchup.head(10)"
   ]
  },
  {
   "cell_type": "code",
   "execution_count": 5,
   "metadata": {
    "scrolled": false
   },
   "outputs": [
    {
     "name": "stdout",
     "output_type": "stream",
     "text": [
      "Campeões mais Utilizados pela PAIN Gaming:\n",
      "Top: JarvanIV -> 22.73 % || Jungle: Khazix -> 27.27 % || Mid: Syndra -> 31.82 % || ADC: Varus -> 31.82 % || Suporte: Braum -> 22.73 %\n"
     ]
    }
   ],
   "source": [
    "#Problema 2: Match-up com os Campeões mais utilizados pela PAIN Gaming\n",
    "print(\"Campeões mais Utilizados pela PAIN Gaming:\")\n",
    "top_pain=matchup[(matchup.Liga == 'CBLoL') & (matchup.Ano == 2017) & (matchup.Split == 'Summer') & (matchup.Time == 'PNG')].Top.describe()\n",
    "jungle_pain=matchup[(matchup.Liga == 'CBLoL') & (matchup.Ano == 2017) & (matchup.Split == 'Summer') & (matchup.Time == 'PNG')].Jungle.describe()\n",
    "mid_pain=matchup[(matchup.Liga == 'CBLoL') & (matchup.Ano == 2017) & (matchup.Split == 'Summer') & (matchup.Time == 'PNG')].Mid.describe()\n",
    "adc_pain=matchup[(matchup.Liga == 'CBLoL') & (matchup.Ano == 2017) & (matchup.Split == 'Summer') & (matchup.Time == 'PNG')].ADC.describe()\n",
    "suporte_pain=matchup[(matchup.Liga == 'CBLoL') & (matchup.Ano == 2017) & (matchup.Split == 'Summer') & (matchup.Time == 'PNG')].Suporte.describe()\n",
    "print(\"Top:\",top_pain.top,\"->\",\"{:.2f}\".format((top_pain.freq/top_pain['count'])*100),\"%\",\"||\",\n",
    "      \"Jungle:\",jungle_pain.top,\"->\",\"{:.2f}\".format((jungle_pain.freq/jungle_pain['count'])*100),\"%\",\"||\",\n",
    "      \"Mid:\",mid_pain.top,\"->\",\"{:.2f}\".format((mid_pain.freq/mid_pain['count'])*100),\"%\",\"||\",\n",
    "      \"ADC:\",adc_pain.top,\"->\",\"{:.2f}\".format((adc_pain.freq/adc_pain['count'])*100),\"%\",\"||\",\n",
    "      \"Suporte:\",suporte_pain.top,\"->\",\"{:.2f}\".format((suporte_pain.freq/suporte_pain['count'])*100),\"%\",)"
   ]
  },
  {
   "cell_type": "code",
   "execution_count": 6,
   "metadata": {},
   "outputs": [
    {
     "name": "stdout",
     "output_type": "stream",
     "text": [
      "\n",
      "Campeões mais Utilizados pela SKT T1:\n",
      "Top: Rumble -> 28.30 % || Jungle: Gragas -> 22.64 % || Mid: Taliyah -> 16.98 % || ADC: Tristana -> 22.64 % || Suporte: Alistar -> 22.64 %\n"
     ]
    }
   ],
   "source": [
    "#Problema 3: Match-up com os Campeões mais utilizados pela SKT T1\n",
    "print(\"\\nCampeões mais Utilizados pela SKT T1:\")\n",
    "top_skt=matchup[(matchup.Liga == 'LCK') & (matchup.Ano == 2017) & (matchup.Split == 'Summer') & (matchup.Time == 'SKT')].Top.describe()\n",
    "jungle_skt=matchup[(matchup.Liga == 'LCK') & (matchup.Ano == 2017) & (matchup.Split == 'Summer') & (matchup.Time == 'SKT')].Jungle.describe()\n",
    "mid_skt=matchup[(matchup.Liga == 'LCK') & (matchup.Ano == 2017) & (matchup.Split == 'Summer') & (matchup.Time == 'SKT')].Mid.describe()\n",
    "adc_skt=matchup[(matchup.Liga == 'LCK') & (matchup.Ano == 2017) & (matchup.Split == 'Summer') & (matchup.Time == 'SKT')].ADC.describe()\n",
    "suporte_skt=matchup[(matchup.Liga == 'LCK') & (matchup.Ano == 2017) & (matchup.Split == 'Summer') & (matchup.Time == 'SKT')].Suporte.describe()\n",
    "print(\"Top:\",top_skt.top,\"->\",\"{:.2f}\".format((top_skt.freq/top_skt['count'])*100),\"%\",\"||\",\n",
    "      \"Jungle:\",jungle_skt.top,\"->\",\"{:.2f}\".format((jungle_skt.freq/jungle_skt['count'])*100),\"%\",\"||\",\n",
    "      \"Mid:\",mid_skt.top,\"->\",\"{:.2f}\".format((mid_skt.freq/mid_skt['count'])*100),\"%\",\"||\",\n",
    "      \"ADC:\",adc_skt.top,\"->\",\"{:.2f}\".format((adc_skt.freq/adc_skt['count'])*100),\"%\",\"||\",\n",
    "      \"Suporte:\",suporte_skt.top,\"->\",\"{:.2f}\".format((suporte_skt.freq/suporte_skt['count'])*100),\"%\",)"
   ]
  },
  {
   "cell_type": "code",
   "execution_count": 7,
   "metadata": {},
   "outputs": [],
   "source": [
    "# Estilizando os gráficos\n",
    "sns.set_style(\"darkgrid\", {\"axes.facecolor\": \".9\"})"
   ]
  },
  {
   "cell_type": "code",
   "execution_count": 8,
   "metadata": {
    "pycharm": {
     "name": "#%%\n"
    },
    "scrolled": true
   },
   "outputs": [
    {
     "data": {
      "image/png": "[encoded data removed]",
      "text/plain": [
       "<Figure size 432x288 with 1 Axes>"
      ]
     },
     "metadata": {},
     "output_type": "display_data"
    }
   ],
   "source": [
    "#Problema 4: Match-up com os Campeões mais utilizados em todo o Competitivo de LoL (2015 a 2018)\n",
    "champions = [matchup.Top.describe().top,matchup.Jungle.describe().top,matchup.Mid.describe().top,matchup.ADC.describe().top,matchup.Suporte.describe().top]\n",
    "picks = [matchup.Top.describe().freq,matchup.Jungle.describe().freq,matchup.Mid.describe().freq,matchup.ADC.describe().freq,matchup.Suporte.describe().freq]\n",
    "sns.barplot(champions, picks, palette=\"Set2\")\n",
    "plt.title(\"Campeões mais Utilizados\", fontsize=12)\n",
    "plt.xlabel(\"Campeões por Lane (Top/Jungle/Mid/ADC/Sup)\", fontsize=11)\n",
    "plt.ylabel(\"Quantidade de Picks\", fontsize=11)\n",
    "plt.show()"
   ]
  },
  {
   "cell_type": "code",
   "execution_count": 9,
   "metadata": {},
   "outputs": [
    {
     "data": {
      "image/png": "[encoded data removed]",
      "text/plain": [
       "<Figure size 432x288 with 1 Axes>"
      ]
     },
     "metadata": {},
     "output_type": "display_data"
    }
   ],
   "source": [
    "#Problema 5: Tempo médio de partida por liga\n",
    "dataset.groupby('League').gamelength.mean().plot(kind='barh')\n",
    "plt.title('Tempo médio de partida por liga', fontsize=12)\n",
    "plt.xlabel('Tempo médio em minutos', fontsize=11)\n",
    "plt.ylabel('Ligas', fontsize=11)\n",
    "plt.show()"
   ]
  },
  {
   "cell_type": "code",
   "execution_count": 23,
   "metadata": {},
   "outputs": [
    {
     "data": {
      "image/png": "[encoded data removed]",
      "text/plain": [
       "<Figure size 432x288 with 1 Axes>"
      ]
     },
     "metadata": {},
     "output_type": "display_data"
    }
   ],
   "source": [
    "#Problema 6: WinRate (percentual de vitórias) do lado Vermelho e lado Azul referente ao Competitivo de 2015 a 2018\n",
    "pazul = '{:2.2}'.format(dataset.bResult.mean())\n",
    "pvermelho = '{:2.2}'.format(dataset.rResult.mean())\n",
    "explode = (0.01, 0)\n",
    "labels=['Lado Azul', 'Lado Vermelho']\n",
    "plt.pie([pazul,pvermelho], colors=['blue', 'red'], autopct='%1.1f%%', explode=explode, startangle=50, pctdistance=1.2)\n",
    "plt.legend(labels, loc=1)\n",
    "plt.title('WinRate dos Lados',fontsize=12)\n",
    "centre_circle = plt.Circle((0,0),0.6,fc='white',linewidth=1.25)\n",
    "fig = plt.gcf()\n",
    "fig.gca().add_artist(centre_circle)\n",
    "plt.axis('equal')\n",
    "plt.show()"
   ]
  },
  {
   "cell_type": "code",
   "execution_count": 24,
   "metadata": {},
   "outputs": [
    {
     "data": {
      "image/png": "[encoded data removed]",
      "text/plain": [
       "<Figure size 432x288 with 1 Axes>"
      ]
     },
     "metadata": {},
     "output_type": "display_data"
    }
   ],
   "source": [
    "#Problema 7: Quantidade de campeões diferentes utilizados em cada lane\n",
    "top=matchup.Top.describe()\n",
    "jg=matchup.Jungle.describe()\n",
    "mid=matchup.Mid.describe()\n",
    "adc=matchup.ADC.describe()\n",
    "sup=matchup.Suporte.describe()\n",
    "sns.barplot(['Top','Jungle','Mid','ADC','Suporte'], [top['unique'],jg['unique'],mid['unique'],adc['unique'],sup['unique']])\n",
    "plt.xlabel('Lanes',fontsize=11)\n",
    "plt.ylabel('Quantidade de Campeões',fontsize=11)\n",
    "plt.title('Variedade de Campeões por Lane',fontsize=12)\n",
    "plt.show()"
   ]
  },
  {
   "cell_type": "code",
   "execution_count": null,
   "metadata": {},
   "outputs": [],
   "source": []
  }
 ],
 "metadata": {
  "kernelspec": {
   "display_name": "Python 3",
   "language": "python",
   "name": "python3"
  },
  "language_info": {
   "codemirror_mode": {
    "name": "ipython",
    "version": 3
   },
   "file_extension": ".py",
   "mimetype": "text/x-python",
   "name": "python",
   "nbconvert_exporter": "python",
   "pygments_lexer": "ipython3",
   "version": "3.8.3"
  }
 },
 "nbformat": 4,
 "nbformat_minor": 4
}