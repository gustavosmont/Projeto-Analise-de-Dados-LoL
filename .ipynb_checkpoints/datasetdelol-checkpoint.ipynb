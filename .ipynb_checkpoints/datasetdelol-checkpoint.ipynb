{
 "cells": [
  {
   "cell_type": "code",
   "execution_count": 1,
   "metadata": {},
   "outputs": [],
   "source": [
    "import numpy as np\n",
    "import pandas as pd\n",
    "import matplotlib.pyplot as plt"
   ]
  },
  {
   "cell_type": "code",
   "execution_count": 2,
   "metadata": {},
   "outputs": [],
   "source": [
    "%matplotlib inline"
   ]
  },
  {
   "cell_type": "code",
   "execution_count": 3,
   "metadata": {},
   "outputs": [],
   "source": [
    "file = \"datasetLoL\\\\matchinfo.csv\"\n",
    "dataset = pd.read_csv(file)"
   ]
  },
  {
   "cell_type": "code",
   "execution_count": 70,
   "metadata": {
    "scrolled": false
   },
   "outputs": [
    {
     "data": {
      "text/plain": [
       "4301        Syndra\n",
       "4302          Ahri\n",
       "4303    Cassiopeia\n",
       "4304       Leblanc\n",
       "4305          Ahri\n",
       "Name: blueMiddleChamp, dtype: object"
      ]
     },
     "execution_count": 70,
     "metadata": {},
     "output_type": "execute_result"
    }
   ],
   "source": [
    "CBLol2017 = dataset[(dataset.League == 'CBLoL') & (dataset.Year == 2017) & (dataset.Season == 'Summer')]\n",
    "CBLol2017['blueMiddleChamp'].head()"
   ]
  },
  {
   "cell_type": "code",
   "execution_count": 126,
   "metadata": {},
   "outputs": [],
   "source": [
    "painblue = CBLol2017[(CBLol2017.blueTeamTag == 'PNG')]"
   ]
  },
  {
   "cell_type": "code",
   "execution_count": 127,
   "metadata": {},
   "outputs": [],
   "source": [
    "painred = CBLol2017[(CBLol2017.redTeamTag == 'PNG')]"
   ]
  },
  {
   "cell_type": "markdown",
   "metadata": {},
   "source": [
    "Descobrindo o Campeão do Top mais utilizado pela Pain Gaming"
   ]
  },
  {
   "cell_type": "code",
   "execution_count": 128,
   "metadata": {},
   "outputs": [
    {
     "name": "stdout",
     "output_type": "stream",
     "text": [
      "Chogath\n"
     ]
    }
   ],
   "source": [
    "if (painred.redTopChamp.describe().freq > painblue.blueTopChamp.describe().freq):\n",
    "    print(painred.redTopChamp.describe().top)\n",
    "elif (painred.redTopChamp.describe().freq < painblue.blueTopChamp.describe().freq):\n",
    "    print(painblue.blueTopChamp.describe().top)\n",
    "else:\n",
    "    if(painblue.blueTopChamp.describe().top == painred.redTopChamp.describe().top):\n",
    "        print(painblue.blueTopChamp.describe().top)\n",
    "    else:\n",
    "        print(painblue.blueTopChamp.describe().top,\"/\",painred.redTopChamp.describe().top)"
   ]
  },
  {
   "cell_type": "code",
   "execution_count": null,
   "metadata": {},
   "outputs": [],
   "source": []
  }
 ],
 "metadata": {
  "kernelspec": {
   "display_name": "Python 3",
   "language": "python",
   "name": "python3"
  },
  "language_info": {
   "codemirror_mode": {
    "name": "ipython",
    "version": 3
   },
   "file_extension": ".py",
   "mimetype": "text/x-python",
   "name": "python",
   "nbconvert_exporter": "python",
   "pygments_lexer": "ipython3",
   "version": "3.8.5"
  }
 },
 "nbformat": 4,
 "nbformat_minor": 4
}
