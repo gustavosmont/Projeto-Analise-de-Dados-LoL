{
 "cells": [
  {
   "cell_type": "code",
   "execution_count": 1,
   "metadata": {},
   "outputs": [],
   "source": [
    "import numpy as np\n",
    "import pandas as pd\n",
    "import matplotlib.pyplot as plt"
   ]
  },
  {
   "cell_type": "code",
   "execution_count": 2,
   "metadata": {},
   "outputs": [],
   "source": [
    "%matplotlib inline"
   ]
  },
  {
   "cell_type": "code",
   "execution_count": 3,
   "metadata": {},
   "outputs": [],
   "source": [
    "file = \"datasetLoL\\\\matchinfo.csv\"\n",
    "dataset = pd.read_csv(file)"
   ]
  },
  {
   "cell_type": "code",
   "execution_count": 4,
   "metadata": {
    "scrolled": false
   },
   "outputs": [
    {
     "data": {
      "text/plain": [
       "4301        Syndra\n",
       "4302          Ahri\n",
       "4303    Cassiopeia\n",
       "4304       Leblanc\n",
       "4305          Ahri\n",
       "Name: blueMiddleChamp, dtype: object"
      ]
     },
     "execution_count": 4,
     "metadata": {},
     "output_type": "execute_result"
    }
   ],
   "source": [
    "CBLol2017 = dataset[(dataset.League == 'CBLoL') & (dataset.Year == 2017) & (dataset.Season == 'Summer')]\n",
    "CBLol2017['blueMiddleChamp'].head()"
   ]
  },
  {
   "cell_type": "code",
   "execution_count": 5,
   "metadata": {},
   "outputs": [],
   "source": [
    "painblue = CBLol2017[(CBLol2017.blueTeamTag == 'PNG')]"
   ]
  },
  {
   "cell_type": "code",
   "execution_count": 6,
   "metadata": {
    "pycharm": {
     "name": "#%%\n"
    }
   },
   "outputs": [],
   "source": [
    "painred = CBLol2017[(CBLol2017.redTeamTag == 'PNG')]"
   ]
  },
  {
   "cell_type": "markdown",
   "metadata": {},
   "source": [
    "Descobrindo o Campeão da posiçao Top mais utilizado pela Pain Gaming"
   ]
  },
  {
   "cell_type": "code",
   "execution_count": 7,
   "metadata": {
    "pycharm": {
     "name": "#%%\n"
    }
   },
   "outputs": [
    {
     "name": "stdout",
     "output_type": "stream",
     "text": [
      "Chogath\n"
     ]
    }
   ],
   "source": [
    "if (painred.redTopChamp.describe().freq > painblue.blueTopChamp.describe().freq):\n",
    "    print(painred.redTopChamp.describe().top)\n",
    "elif (painred.redTopChamp.describe().freq < painblue.blueTopChamp.describe().freq):\n",
    "    print(painblue.blueTopChamp.describe().top)\n",
    "else:\n",
    "    if(painblue.blueTopChamp.describe().top == painred.redTopChamp.describe().top):\n",
    "        print(painblue.blueTopChamp.describe().top)\n",
    "    else:\n",
    "        print(painblue.blueTopChamp.describe().top,\"/\",painred.redTopChamp.describe().top)"
   ]
  },
  {
   "cell_type": "markdown",
   "metadata": {},
   "source": [
    "Descobrindo o Campeão da posiçao Jungle mais utilizado pela Pain Gaming"
   ]
  },
  {
   "cell_type": "code",
   "execution_count": 9,
   "metadata": {},
   "outputs": [
    {
     "name": "stdout",
     "output_type": "stream",
     "text": [
      "Khazix\n"
     ]
    }
   ],
   "source": [
    "if (painred.redJungleChamp.describe().freq > painblue.blueJungleChamp.describe().freq):\n",
    "    print(painred.redJungleChamp.describe().top)\n",
    "elif (painred.redJungleChamp.describe().freq < painblue.blueJungleChamp.describe().freq):\n",
    "    print(painblue.blueJungleChamp.describe().top)\n",
    "else:\n",
    "    if(painblue.blueJungleChamp.describe().top == painred.redJungleChamp.describe().top):\n",
    "        print(painblue.blueJungleChamp.describe().top)\n",
    "    else:\n",
    "        print(painblue.blueJungleChamp.describe().top,\"/\",painred.redJungleChamp.describe().top)"
   ]
  }
 ],
 "metadata": {
  "kernelspec": {
   "display_name": "Python 3",
   "language": "python",
   "name": "python3"
  },
  "language_info": {
   "codemirror_mode": {
    "name": "ipython",
    "version": 3
   },
   "file_extension": ".py",
   "mimetype": "text/x-python",
   "name": "python",
   "nbconvert_exporter": "python",
   "pygments_lexer": "ipython3",
   "version": "3.8.3"
  }
 },
 "nbformat": 4,
 "nbformat_minor": 4
}
